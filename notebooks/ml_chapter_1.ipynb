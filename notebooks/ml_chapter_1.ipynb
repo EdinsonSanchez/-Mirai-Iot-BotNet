{
  "nbformat": 4,
  "nbformat_minor": 0,
  "metadata": {
    "colab": {
      "name": "ml-chapter-1.ipynb",
      "version": "0.3.2",
      "provenance": [],
      "collapsed_sections": [],
      "include_colab_link": true
    },
    "kernelspec": {
      "name": "python3",
      "display_name": "Python 3"
    }
  },
  "cells": [
    {
      "cell_type": "markdown",
      "metadata": {
        "id": "view-in-github",
        "colab_type": "text"
      },
      "source": [
        "<a href=\"https://colab.research.google.com/github/EdinsonSanchez/-Mirai-Iot-BotNet/blob/master/notebooks/ml_chapter_1.ipynb\" target=\"_parent\"><img src=\"https://colab.research.google.com/assets/colab-badge.svg\" alt=\"Open In Colab\"/></a>"
      ]
    },
    {
      "cell_type": "code",
      "metadata": {
        "id": "hsVUQGH_EKFM",
        "colab_type": "code",
        "colab": {}
      },
      "source": [
        "import numpy as np\n",
        "import pandas as pd"
      ],
      "execution_count": 0,
      "outputs": []
    },
    {
      "cell_type": "code",
      "metadata": {
        "id": "gUkjnbuiA65_",
        "colab_type": "code",
        "colab": {}
      },
      "source": [
        "class Perceptron(object):\n",
        "  \"\"\"Perceptron classifier.\n",
        "  \n",
        "  Parameters\n",
        "  -----------\n",
        "\n",
        "  eta : float\n",
        "    Learning rate (between 0.0 and 1.0)\n",
        "  n_iter: int\n",
        "    Passes over the training dataset.\n",
        "  \n",
        "  Attributes\n",
        "  -----------\n",
        "\n",
        "  w_ : 1d-array\n",
        "    Weights after fitting.\n",
        "  errors_ : list\n",
        "    Number of misclassifications in every epoch.\n",
        "  \"\"\"\n",
        "  def __init__(self, eta=0.01, n_iter=10):\n",
        "    self.eta = eta\n",
        "    self.n_iter = n_iter\n",
        "  \n",
        "  def fit(self, x, y):\n",
        "    \"\"\"Fit training data.\n",
        "    \n",
        "    Parameters\n",
        "    -----------\n",
        "\n",
        "    x : {array-like}, shape = [n_samples, n_features]\n",
        "      Training vectors, where n_samples\n",
        "      is the number of samples and\n",
        "      n_features is the number of features.\n",
        "    y : array-like, shape = [n_samples]\n",
        "      Target values.\n",
        "    \n",
        "    Returns\n",
        "    --------\n",
        "    self : object\n",
        "    \"\"\"\n",
        "    self.w_ = np.zeros(1 + x.shape[1])\n",
        "    self.errors_ = []\n",
        "\n",
        "    for _ in range(self.n_iter):\n",
        "      errors = 0\n",
        "      for xi, target in zip(x, y):\n",
        "        update = self.eta * (target - self.predict(xi))\n",
        "        self.w_[1:] += update * xi\n",
        "        self.w_[0] += update\n",
        "        errors += int(update != 0.0)\n",
        "      self.errors_.append(errors)\n",
        "    return self\n",
        "  \n",
        "  def net_input(self, x):\n",
        "    \"\"\"Calculate net input\"\"\"\n",
        "    return np.dot(x, self.w_[1:]) + self.w_[0]\n",
        "\n",
        "  def predict(self, x):\n",
        "    \"\"\"Return class label after unit step\"\"\"\n",
        "    return np.where(self.net_input(x) >= 0.0, 1, -1)\n"
      ],
      "execution_count": 0,
      "outputs": []
    },
    {
      "cell_type": "markdown",
      "metadata": {
        "id": "VH2ZfrtS4KaI",
        "colab_type": "text"
      },
      "source": [
        "Load the Iris dataset directly from the *UCI Machine Learning Repository* into a *DataFrame* object and print the last five lineas via the *tail* method to check that the data was loaded correctly."
      ]
    },
    {
      "cell_type": "code",
      "metadata": {
        "id": "RoT7qrim3tL3",
        "colab_type": "code",
        "colab": {
          "base_uri": "https://localhost:8080/",
          "height": 204
        },
        "outputId": "57e64540-d018-4be3-fbc5-e717acc40a0f"
      },
      "source": [
        "df = pd.read_csv('https://archive.ics.uci.edu/ml/machine-learning-databases/iris/iris.data', header=None)\n",
        "df.tail()"
      ],
      "execution_count": 2,
      "outputs": [
        {
          "output_type": "execute_result",
          "data": {
            "text/html": [
              "<div>\n",
              "<style scoped>\n",
              "    .dataframe tbody tr th:only-of-type {\n",
              "        vertical-align: middle;\n",
              "    }\n",
              "\n",
              "    .dataframe tbody tr th {\n",
              "        vertical-align: top;\n",
              "    }\n",
              "\n",
              "    .dataframe thead th {\n",
              "        text-align: right;\n",
              "    }\n",
              "</style>\n",
              "<table border=\"1\" class=\"dataframe\">\n",
              "  <thead>\n",
              "    <tr style=\"text-align: right;\">\n",
              "      <th></th>\n",
              "      <th>0</th>\n",
              "      <th>1</th>\n",
              "      <th>2</th>\n",
              "      <th>3</th>\n",
              "      <th>4</th>\n",
              "    </tr>\n",
              "  </thead>\n",
              "  <tbody>\n",
              "    <tr>\n",
              "      <th>145</th>\n",
              "      <td>6.7</td>\n",
              "      <td>3.0</td>\n",
              "      <td>5.2</td>\n",
              "      <td>2.3</td>\n",
              "      <td>Iris-virginica</td>\n",
              "    </tr>\n",
              "    <tr>\n",
              "      <th>146</th>\n",
              "      <td>6.3</td>\n",
              "      <td>2.5</td>\n",
              "      <td>5.0</td>\n",
              "      <td>1.9</td>\n",
              "      <td>Iris-virginica</td>\n",
              "    </tr>\n",
              "    <tr>\n",
              "      <th>147</th>\n",
              "      <td>6.5</td>\n",
              "      <td>3.0</td>\n",
              "      <td>5.2</td>\n",
              "      <td>2.0</td>\n",
              "      <td>Iris-virginica</td>\n",
              "    </tr>\n",
              "    <tr>\n",
              "      <th>148</th>\n",
              "      <td>6.2</td>\n",
              "      <td>3.4</td>\n",
              "      <td>5.4</td>\n",
              "      <td>2.3</td>\n",
              "      <td>Iris-virginica</td>\n",
              "    </tr>\n",
              "    <tr>\n",
              "      <th>149</th>\n",
              "      <td>5.9</td>\n",
              "      <td>3.0</td>\n",
              "      <td>5.1</td>\n",
              "      <td>1.8</td>\n",
              "      <td>Iris-virginica</td>\n",
              "    </tr>\n",
              "  </tbody>\n",
              "</table>\n",
              "</div>"
            ],
            "text/plain": [
              "       0    1    2    3               4\n",
              "145  6.7  3.0  5.2  2.3  Iris-virginica\n",
              "146  6.3  2.5  5.0  1.9  Iris-virginica\n",
              "147  6.5  3.0  5.2  2.0  Iris-virginica\n",
              "148  6.2  3.4  5.4  2.3  Iris-virginica\n",
              "149  5.9  3.0  5.1  1.8  Iris-virginica"
            ]
          },
          "metadata": {
            "tags": []
          },
          "execution_count": 2
        }
      ]
    },
    {
      "cell_type": "code",
      "metadata": {
        "id": "Umng_lar_O8I",
        "colab_type": "code",
        "colab": {}
      },
      "source": [
        "import matplotlib.pyplot as plt\n",
        "import numpy as np"
      ],
      "execution_count": 0,
      "outputs": []
    },
    {
      "cell_type": "code",
      "metadata": {
        "id": "WWPnZS_W_fpA",
        "colab_type": "code",
        "colab": {
          "base_uri": "https://localhost:8080/",
          "height": 283
        },
        "outputId": "57cda16c-3b11-48b4-b2aa-dc7e7b9dd065"
      },
      "source": [
        "y = df.iloc[0:100, 4].values\n",
        "y = np.where(y == 'Iris-setosa', -1, 1)\n",
        "x = df.iloc[0:100, [0, 2]].values\n",
        "plt.scatter(x[50:100, 0], x[:50, 1], color='red', marker='o', label='setosa')\n",
        "plt.scatter(x[50:100, 0], x[50:100, 1], color='blue', marker='x', label='versicolor')\n",
        "plt.xlabel('petal lenght')\n",
        "plt.ylabel('sepal length')\n",
        "plt.legend(loc='upper left')\n",
        "plt.show()"
      ],
      "execution_count": 4,
      "outputs": [
        {
          "output_type": "display_data",
          "data": {
            "image/png": "[encoded data removed]",
            "text/plain": [
              "<Figure size 432x288 with 1 Axes>"
            ]
          },
          "metadata": {
            "tags": []
          }
        }
      ]
    },
    {
      "cell_type": "markdown",
      "metadata": {
        "id": "TTmQ_hkWLtlQ",
        "colab_type": "text"
      },
      "source": [
        "Now, it's time to train our perceptron algorithm on the Iris data subset that we just extracted. Also, we will plot the *misclassification error* for each epoch to check if the algorithm converged and found a decision boundary that separates the two Iris flower classes."
      ]
    },
    {
      "cell_type": "code",
      "metadata": {
        "id": "oipG9VO1I_4m",
        "colab_type": "code",
        "colab": {
          "base_uri": "https://localhost:8080/",
          "height": 283
        },
        "outputId": "f2d78415-ca8b-412d-9861-92df576ba140"
      },
      "source": [
        "ppn = Perceptron(eta=0.1, n_iter=10)\n",
        "ppn.fit(x, y)\n",
        "plt.plot(range(1, len(ppn.errors_) + 1), ppn.errors_, marker='o')\n",
        "plt.xlabel('Epochs')\n",
        "plt.ylabel('Number of misclassifications')\n",
        "plt.show()"
      ],
      "execution_count": 12,
      "outputs": [
        {
          "output_type": "display_data",
          "data": {
            "image/png": "[encoded data removed]",
            "text/plain": [
              "<Figure size 432x288 with 1 Axes>"
            ]
          },
          "metadata": {
            "tags": []
          }
        }
      ]
    },
    {
      "cell_type": "markdown",
      "metadata": {
        "id": "uRDfV_30MOhC",
        "colab_type": "text"
      },
      "source": [
        "After executing we should see the plot of the misclassification errors versus the number of epochs, as shown before. And as we see in the proceding plot, our perceptron already converged after the sixth epoch and should now be able to classify the training samples perfectly."
      ]
    },
    {
      "cell_type": "code",
      "metadata": {
        "id": "d2oA2IUzMokJ",
        "colab_type": "code",
        "colab": {}
      },
      "source": [
        "from matplotlib.colors import ListedColormap\n",
        "\n",
        "def plot_decision_regions(x, y, classifier, resolution=0.02):\n",
        "\n",
        "  # setup marker generator and color map\n",
        "  markers = ('s', 'x', 'o', '^', 'v')\n",
        "  colors = ('red', 'blue', 'lightgreen', 'gray', 'cyan')\n",
        "  cmap = ListedColormap(colors[:len(np.unique(y))])\n",
        "\n",
        "  # plot the decision surface\n",
        "  x1_min, x1_max = x[:, 0].min() - 1, x[:, 0].max() + 1\n",
        "  x2_min, x2_max = x[:, 1].min() - 1, x[:, 1].max() + 1\n",
        "  xx1, xx2 = np.meshgrid(np.arange(x1_min, x1_max, resolution),\n",
        "                         np.arange(x2_min, x2_max, resolution))\n",
        "  z = classifier.predict(np.array([xx1.ravel(), xx2.ravel()]).T)\n",
        "  z = z.reshape(xx1.shape)\n",
        "  plt.contourf(xx1, xx2, z, alpha=0.4, cmap=cmap)\n",
        "  plt.xlim(xx1.min(), xx1.max())\n",
        "  plt.ylim(xx2.min(), xx2.max())\n",
        "\n",
        "  # plot class samples\n",
        "  for idx, c1 in enumerate(np.unique(y)):\n",
        "    plt.scatter(x=x[y == c1, 0], y=x[y == c1, 1],\n",
        "                alpha=0.8, c=cmap(idx),\n",
        "                marker=markers[idx], label=c1)"
      ],
      "execution_count": 0,
      "outputs": []
    },
    {
      "cell_type": "code",
      "metadata": {
        "id": "YZJd0FX5Q-Rn",
        "colab_type": "code",
        "colab": {
          "base_uri": "https://localhost:8080/",
          "height": 337
        },
        "outputId": "c081b1b2-d5ee-4bd5-e4b6-f2660b9943c2"
      },
      "source": [
        "plot_decision_regions(x, y, classifier=ppn)\n",
        "plt.xlabel('sepal lenght [cm]')\n",
        "plt.ylabel('petal length [cm]')\n",
        "plt.legend(loc='upper left')\n",
        "plt.show()"
      ],
      "execution_count": 18,
      "outputs": [
        {
          "output_type": "stream",
          "text": [
            "'c' argument looks like a single numeric RGB or RGBA sequence, which should be avoided as value-mapping will have precedence in case its length matches with 'x' & 'y'.  Please use a 2-D array with a single row if you really want to specify the same RGB or RGBA value for all points.\n",
            "'c' argument looks like a single numeric RGB or RGBA sequence, which should be avoided as value-mapping will have precedence in case its length matches with 'x' & 'y'.  Please use a 2-D array with a single row if you really want to specify the same RGB or RGBA value for all points.\n"
          ],
          "name": "stderr"
        },
        {
          "output_type": "display_data",
          "data": {
            "image/png": "[encoded data removed]",
            "text/plain": [
              "<Figure size 432x288 with 1 Axes>"
            ]
          },
          "metadata": {
            "tags": []
          }
        }
      ]
    },
    {
      "cell_type": "markdown",
      "metadata": {
        "id": "f4I-20X7X9nf",
        "colab_type": "text"
      },
      "source": [
        "## Adaptative linear neurons and the convergence of learning"
      ]
    },
    {
      "cell_type": "code",
      "metadata": {
        "id": "I4It1Nu5YDZm",
        "colab_type": "code",
        "colab": {}
      },
      "source": [
        ""
      ],
      "execution_count": 0,
      "outputs": []
    }
  ]
}